{
 "cells": [
  {
   "metadata": {},
   "cell_type": "markdown",
   "source": [
    "🫧 버블 정렬 (Bubble Sort)\n",
    "버블 정렬은 서로 인접한 두 원소를 비교하여 정해진 기준(오름차순 또는 내림차순)에 맞지 않으면 자리를 바꾸는 방식으로 동작하는 가장 간단한 정렬 알고리즘입니다. 마치 거품(bubble)이 물 위로 올라오는 것처럼 큰 (또는 작은) 데이터가 배열의 끝으로 이동하는 모습에서 이름이 유래되었습니다.\n",
    "\n",
    "동작 과정 (오름차순 기준)\n",
    "1. 배열의 첫 번째 원소부터 시작하여 바로 옆의 원소와 크기를 비교합니다.\n",
    "2. 만약 왼쪽 원소가 오른쪽 원소보다 크면, 두 원소의 자리를 바꿉니다.\n",
    "3. 이 과정을 배열의 끝까지 반복합니다. (1라운드)\n",
    "4. 1라운드가 끝나면 가장 큰 원소가 배열의 맨 끝에 위치하게 됩니다.\n",
    "5. 이제 마지막 원소를 제외한 나머지 원소들을 대상으로 1~3번 과정을 반복합니다.\n",
    "6. 정렬이 완료될 때까지 이 과정을 계속 반복합니다."
   ],
   "id": "67af8ccabe080116"
  },
  {
   "cell_type": "code",
   "id": "initial_id",
   "metadata": {
    "collapsed": true,
    "ExecuteTime": {
     "end_time": "2025-07-30T01:25:26.284525Z",
     "start_time": "2025-07-30T01:25:26.279323Z"
    }
   },
   "source": [
    "# 기본 버블 정렬 코드\n",
    "def bubble_sort(arr):\n",
    "    n = len(arr)\n",
    "    # 총 n-1 라운드 반복\n",
    "    # 일단 작은걸 앞으로 보내자!\n",
    "    #4칸이면 3번 비교하면되는거지\n",
    "    for i in range(n-1):\n",
    "        for j in range(n-1-i):\n",
    "            if arr[j]>arr[j+1]:\n",
    "                arr[j], arr[j+1] = arr[j+1], arr[j]\n",
    "\n",
    "my_list = [4, 2, 7, 1, 5]\n",
    "bubble_sort(my_list)\n",
    "print(\"정렬된 리스트:\", my_list) # 출력: 정렬된 리스트: [1, 2, 4, 5, 7]\n"
   ],
   "outputs": [
    {
     "name": "stdout",
     "output_type": "stream",
     "text": [
      "정렬된 리스트: [1, 2, 4, 5, 7]\n"
     ]
    }
   ],
   "execution_count": 4
  },
  {
   "metadata": {
    "ExecuteTime": {
     "end_time": "2025-07-30T01:29:26.776484Z",
     "start_time": "2025-07-30T01:29:26.770932Z"
    }
   },
   "cell_type": "code",
   "source": [
    "def bubble_sort_2(arr, n=None): # 재귀함수를 사용하여 정렬을 구현\n",
    "    if n is None:\n",
    "        n = len(arr)\n",
    "\n",
    "    if n <= 1:\n",
    "        return\n",
    "\n",
    "    for i in range(n-1):\n",
    "        if arr[i]>arr[i+1]:\n",
    "            arr[i], arr[i+1] = arr[i+1], arr[i]\n",
    "\n",
    "    bubble_sort_2(arr, n-1)\n",
    "\n",
    "my_list = [4, 2, 7, 1, 5]\n",
    "bubble_sort_2(my_list, n=len(my_list))\n",
    "print(my_list)\n"
   ],
   "id": "e435f247e98a505a",
   "outputs": [
    {
     "name": "stdout",
     "output_type": "stream",
     "text": [
      "[1, 2, 4, 5, 7]\n"
     ]
    }
   ],
   "execution_count": 5
  },
  {
   "metadata": {},
   "cell_type": "code",
   "outputs": [],
   "execution_count": null,
   "source": "hb",
   "id": "3b1d38de474b7012"
  }
 ],
 "metadata": {
  "kernelspec": {
   "display_name": "Python 3",
   "language": "python",
   "name": "python3"
  },
  "language_info": {
   "codemirror_mode": {
    "name": "ipython",
    "version": 2
   },
   "file_extension": ".py",
   "mimetype": "text/x-python",
   "name": "python",
   "nbconvert_exporter": "python",
   "pygments_lexer": "ipython2",
   "version": "2.7.6"
  }
 },
 "nbformat": 4,
 "nbformat_minor": 5
}
